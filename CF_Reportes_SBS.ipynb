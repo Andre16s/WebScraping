{
 "cells": [
  {
   "cell_type": "code",
   "execution_count": 1,
   "metadata": {},
   "outputs": [],
   "source": [
    "import urllib.request\n",
    "import os\n",
    "import pandas as pd\n",
    "import numpy as np"
   ]
  },
  {
   "cell_type": "code",
   "execution_count": 2,
   "metadata": {},
   "outputs": [],
   "source": [
    "os.chdir(r\"D:\\TU_FOLDER_PRINCIPAL\\SUBCAPERTA\\REPORTES\")  # Ruta de trabajo // Actualizar si fuera necesario "
   ]
  },
  {
   "cell_type": "code",
   "execution_count": 3,
   "metadata": {},
   "outputs": [
    {
     "data": {
      "text/html": [
       "<div>\n",
       "<style scoped>\n",
       "    .dataframe tbody tr th:only-of-type {\n",
       "        vertical-align: middle;\n",
       "    }\n",
       "\n",
       "    .dataframe tbody tr th {\n",
       "        vertical-align: top;\n",
       "    }\n",
       "\n",
       "    .dataframe thead th {\n",
       "        text-align: right;\n",
       "    }\n",
       "</style>\n",
       "<table border=\"1\" class=\"dataframe\">\n",
       "  <thead>\n",
       "    <tr style=\"text-align: right;\">\n",
       "      <th></th>\n",
       "      <th>num_mes</th>\n",
       "      <th>nom_mes</th>\n",
       "      <th>month</th>\n",
       "      <th>nom_mes_2</th>\n",
       "    </tr>\n",
       "  </thead>\n",
       "  <tbody>\n",
       "    <tr>\n",
       "      <th>0</th>\n",
       "      <td>01</td>\n",
       "      <td>Enero</td>\n",
       "      <td>January</td>\n",
       "      <td>en</td>\n",
       "    </tr>\n",
       "  </tbody>\n",
       "</table>\n",
       "</div>"
      ],
      "text/plain": [
       "  num_mes nom_mes    month nom_mes_2\n",
       "0      01   Enero  January        en"
      ]
     },
     "execution_count": 3,
     "metadata": {},
     "output_type": "execute_result"
    }
   ],
   "source": [
    "list_calendar=[\n",
    "    [\"01\",\"Enero\",\"January\",\"en\"],\n",
    "    [\"02\",\"Febrero\",\"February\",\"fe\"],\n",
    "    [\"03\",\"Marzo\",\"March\",\"ma\"],\n",
    "    [\"04\",\"Abril\",\"April\",\"ab\"],\n",
    "    [\"05\",\"Mayo\",\"May\",\"my\"],\n",
    "    [\"06\",\"Junio\",\"June\",\"jn\"],\n",
    "    [\"07\",\"Julio\",\"July\",\"jl\"],\n",
    "    [\"08\",\"Agosto\",\"August\",\"ag\"],\n",
    "    [\"09\",\"Setiembre\",\"September\",\"se\"],\n",
    "    [\"10\",\"Octubre\",\"October\",\"oc\"],\n",
    "    [\"11\",\"Noviembre\",\"November\",\"no\"],\n",
    "    [\"12\",\"Diciembre\",\"December\",\"di\"]]\n",
    "df_calendar=pd.DataFrame(list_calendar, columns = ['num_mes','nom_mes','month','nom_mes_2'])\n",
    "df_calendar.head(1)"
   ]
  },
  {
   "cell_type": "markdown",
   "metadata": {},
   "source": [
    "## Actualizar parametros"
   ]
  },
  {
   "cell_type": "code",
   "execution_count": 4,
   "metadata": {},
   "outputs": [
    {
     "name": "stdout",
     "output_type": "stream",
     "text": [
      "2021\n",
      "se\n",
      "Setiembre\n",
      "09\n"
     ]
    }
   ],
   "source": [
    "#Link Principal de reporte\n",
    "url='https://intranet2.sbs.gob.pe/estadistica/financiera/'\n",
    "\n",
    "anio='2021'     # ACTUALIZAR  <======\n",
    "n_mes =str(df_calendar[df_calendar['num_mes']=='09'].num_mes.values.tolist())   # ACTUALIZAR\n",
    "t_mes =str(df_calendar[df_calendar['num_mes']=='09'].nom_mes.values.tolist())   # ACTUALIZAR\n",
    "t_mes2=str(df_calendar[df_calendar['num_mes']=='09'].nom_mes_2.values.tolist())   # ACTUALIZAR\n",
    "\n",
    "n_mes=n_mes.replace('[','')\n",
    "n_mes=n_mes.replace(']','')\n",
    "n_mes=n_mes.replace(\"'\",'')\n",
    "n_mes=n_mes.replace(\"'\",'')\n",
    "\n",
    "t_mes2=t_mes2.replace('[','')\n",
    "t_mes2=t_mes2.replace(']','')\n",
    "t_mes2=t_mes2.replace(\"'\",'')\n",
    "t_mes2=t_mes2.replace(\"'\",'')\n",
    "\n",
    "t_mes=t_mes.replace('[','')\n",
    "t_mes=t_mes.replace(']','')\n",
    "t_mes=t_mes.replace(\"'\",'')\n",
    "t_mes=t_mes.replace(\"'\",'')\n",
    "print(anio)\n",
    "print(t_mes2)\n",
    "print(t_mes)\n",
    "print(n_mes)"
   ]
  },
  {
   "cell_type": "code",
   "execution_count": 5,
   "metadata": {},
   "outputs": [
    {
     "data": {
      "text/plain": [
       "'se2021.xls'"
      ]
     },
     "execution_count": 5,
     "metadata": {},
     "output_type": "execute_result"
    }
   ],
   "source": [
    "#Fecha reporte\n",
    "fec_rep=t_mes2.lower()\n",
    "#fec_rep=t_mes.lower()\n",
    "fec_rep=fec_rep+anio+'.xls'\n",
    "fec_rep"
   ]
  },
  {
   "cell_type": "markdown",
   "metadata": {},
   "source": [
    "## **Reportes Banca Múltiple**"
   ]
  },
  {
   "cell_type": "code",
   "execution_count": 6,
   "metadata": {},
   "outputs": [
    {
     "name": "stdout",
     "output_type": "stream",
     "text": [
      "<class 'str'>\n",
      "<class 'str'>\n",
      "<class 'str'>\n"
     ]
    }
   ],
   "source": [
    "#Listado de Reportes Banca Múltiple\n",
    "bm_rep_tcys='B-2334'   # Tipo de Credito y Situacion\n",
    "bm_rep_epyp='B-2201'   # Estado de Ganancias y Perdidas\n",
    "bm_rep_cctc='B-2369'   # Creditos Castigados por Tipo Credito\n",
    "bm_rep_cctc\n",
    "print(type(url))\n",
    "print(type(anio))\n",
    "print(type(n_mes))"
   ]
  },
  {
   "cell_type": "code",
   "execution_count": 7,
   "metadata": {
    "scrolled": true
   },
   "outputs": [
    {
     "name": "stdout",
     "output_type": "stream",
     "text": [
      "https://intranet2.sbs.gob.pe/estadistica/financiera/2021/Setiembre/B-2334-se2021.xls\n",
      "https://intranet2.sbs.gob.pe/estadistica/financiera/2021/Setiembre/B-2201-se2021.xls\n",
      "https://intranet2.sbs.gob.pe/estadistica/financiera/2021/Setiembre/B-2369-se2021.xls\n"
     ]
    }
   ],
   "source": [
    "url_bm_rep_tcys=str(url+anio+'/'+t_mes+'/'+bm_rep_tcys+'-'+fec_rep)\n",
    "url_bm_rep_epyp=str(url+anio+'/'+t_mes+'/'+bm_rep_epyp+'-'+fec_rep)\n",
    "url_bm_rep_cctc=str(url+anio+'/'+t_mes+'/'+bm_rep_cctc+'-'+fec_rep)\n",
    "print(url_bm_rep_tcys)\n",
    "print(url_bm_rep_epyp)\n",
    "print(url_bm_rep_cctc)"
   ]
  },
  {
   "cell_type": "code",
   "execution_count": 8,
   "metadata": {},
   "outputs": [],
   "source": [
    "try:     urllib.request.urlretrieve(url_bm_rep_tcys, 'BM_TCYS_'+anio+'_'+n_mes+'_'+bm_rep_tcys+'-'+fec_rep) \n",
    "except: 'No existe'\n",
    "try:     urllib.request.urlretrieve(url_bm_rep_epyp, 'BM_EPYG_'+anio+'_'+n_mes+'_'+bm_rep_epyp+'-'+fec_rep) \n",
    "except: 'No existe'\n",
    "try:     urllib.request.urlretrieve(url_bm_rep_cctc, 'BM_CCTC_'+anio+'_'+n_mes+'_'+bm_rep_cctc+'-'+fec_rep) \n",
    "except: 'No existe'   "
   ]
  },
  {
   "cell_type": "markdown",
   "metadata": {},
   "source": [
    "## **Reportes Empresas Financieras**"
   ]
  },
  {
   "cell_type": "code",
   "execution_count": 9,
   "metadata": {},
   "outputs": [],
   "source": [
    "#Listado de Reportes Empresas Financieras\n",
    "ef_rep_tcys='B-3220'   # Tipo de Credito y Situacion\n",
    "ef_rep_epyp='B-3101'   # Estado de Ganancias y Perdidas\n",
    "ef_rep_cctc='B-3234'   # Creditos Castigados por Tipo Credito"
   ]
  },
  {
   "cell_type": "code",
   "execution_count": 10,
   "metadata": {},
   "outputs": [
    {
     "name": "stdout",
     "output_type": "stream",
     "text": [
      "https://intranet2.sbs.gob.pe/estadistica/financiera/2021/Setiembre/B-3220-se2021.xls\n",
      "https://intranet2.sbs.gob.pe/estadistica/financiera/2021/Setiembre/B-3101-se2021.xls\n",
      "https://intranet2.sbs.gob.pe/estadistica/financiera/2021/Setiembre/B-3234-se2021.xls\n"
     ]
    }
   ],
   "source": [
    "url_ef_rep_tcys=url+anio+'/'+t_mes+'/'+ef_rep_tcys+'-'+fec_rep\n",
    "url_ef_rep_epyp=url+anio+'/'+t_mes+'/'+ef_rep_epyp+'-'+fec_rep\n",
    "url_ef_rep_cctc=url+anio+'/'+t_mes+'/'+ef_rep_cctc+'-'+fec_rep\n",
    "print(url_ef_rep_tcys)\n",
    "print(url_ef_rep_epyp)\n",
    "print(url_ef_rep_cctc)"
   ]
  },
  {
   "cell_type": "code",
   "execution_count": 11,
   "metadata": {},
   "outputs": [],
   "source": [
    "try:     urllib.request.urlretrieve(url_ef_rep_tcys, 'EF_TCYS_'+anio+'_'+n_mes+'_'+ef_rep_tcys+'-'+fec_rep) \n",
    "except: 'No existe'\n",
    "try:     urllib.request.urlretrieve(url_ef_rep_epyp, 'EF_EPYG_'+anio+'_'+n_mes+'_'+ef_rep_epyp+'-'+fec_rep) \n",
    "except: 'No existe'\n",
    "try:     urllib.request.urlretrieve(url_ef_rep_cctc, 'EF_CCTC_'+anio+'_'+n_mes+'_'+ef_rep_cctc+'-'+fec_rep) \n",
    "except: 'No existe' "
   ]
  },
  {
   "cell_type": "markdown",
   "metadata": {},
   "source": [
    "## **Reportes Cajas Municipales**"
   ]
  },
  {
   "cell_type": "code",
   "execution_count": 12,
   "metadata": {},
   "outputs": [],
   "source": [
    "#Listado de Reportes Cajas Municipales\n",
    "cm_rep_tcys='C-1228'   # Tipo de Credito y Situacion\n",
    "cm_rep_epyp='C-1101'   # Estado de Ganancias y Perdidas\n",
    "cm_rep_cctc='C-1253'   # Creditos Castigados por Tipo Credito"
   ]
  },
  {
   "cell_type": "code",
   "execution_count": 13,
   "metadata": {},
   "outputs": [
    {
     "name": "stdout",
     "output_type": "stream",
     "text": [
      "https://intranet2.sbs.gob.pe/estadistica/financiera/2021/Setiembre/C-1228-se2021.xls\n",
      "https://intranet2.sbs.gob.pe/estadistica/financiera/2021/Setiembre/C-1101-se2021.xls\n",
      "https://intranet2.sbs.gob.pe/estadistica/financiera/2021/Setiembre/C-1253-se2021.xls\n"
     ]
    }
   ],
   "source": [
    "url_cm_rep_tcys=url+anio+'/'+t_mes+'/'+cm_rep_tcys+'-'+fec_rep\n",
    "url_cm_rep_epyp=url+anio+'/'+t_mes+'/'+cm_rep_epyp+'-'+fec_rep\n",
    "url_cm_rep_cctc=url+anio+'/'+t_mes+'/'+cm_rep_cctc+'-'+fec_rep\n",
    "print(url_cm_rep_tcys)\n",
    "print(url_cm_rep_epyp)\n",
    "print(url_cm_rep_cctc)"
   ]
  },
  {
   "cell_type": "code",
   "execution_count": 14,
   "metadata": {},
   "outputs": [],
   "source": [
    "try:     urllib.request.urlretrieve(url_cm_rep_tcys, 'CM_TCYS_'+anio+'_'+n_mes+'_'+cm_rep_tcys+'-'+fec_rep) \n",
    "except: 'No existe'\n",
    "try:     urllib.request.urlretrieve(url_cm_rep_epyp, 'CM_EPYG_'+anio+'_'+n_mes+'_'+cm_rep_epyp+'-'+fec_rep) \n",
    "except: 'No existe'\n",
    "try:     urllib.request.urlretrieve(url_cm_rep_cctc, 'CM_CCTC_'+anio+'_'+n_mes+'_'+cm_rep_cctc+'-'+fec_rep) \n",
    "except: 'No existe' "
   ]
  },
  {
   "cell_type": "markdown",
   "metadata": {},
   "source": [
    "## **Reportes Cajas Rurales**"
   ]
  },
  {
   "cell_type": "code",
   "execution_count": 15,
   "metadata": {},
   "outputs": [],
   "source": [
    "#Listado de Reportes Cajas Rurales\n",
    "cr_rep_tcys='C-2228'   # Tipo de Credito y Situacion\n",
    "cr_rep_epyp='C-2101'   # Estado de Ganancias y Perdidas\n",
    "cr_rep_cctc='C-2258'   # Creditos Castigados por Tipo Credito"
   ]
  },
  {
   "cell_type": "code",
   "execution_count": 16,
   "metadata": {},
   "outputs": [
    {
     "name": "stdout",
     "output_type": "stream",
     "text": [
      "https://intranet2.sbs.gob.pe/estadistica/financiera/2021/Setiembre/C-2228-se2021.xls\n",
      "https://intranet2.sbs.gob.pe/estadistica/financiera/2021/Setiembre/C-2101-se2021.xls\n",
      "https://intranet2.sbs.gob.pe/estadistica/financiera/2021/Setiembre/C-2258-se2021.xls\n"
     ]
    }
   ],
   "source": [
    "url_cr_rep_tcys=url+anio+'/'+t_mes+'/'+cr_rep_tcys+'-'+fec_rep\n",
    "url_cr_rep_epyp=url+anio+'/'+t_mes+'/'+cr_rep_epyp+'-'+fec_rep\n",
    "url_cr_rep_cctc=url+anio+'/'+t_mes+'/'+cr_rep_cctc+'-'+fec_rep\n",
    "print(url_cr_rep_tcys)\n",
    "print(url_cr_rep_epyp)\n",
    "print(url_cr_rep_cctc)"
   ]
  },
  {
   "cell_type": "code",
   "execution_count": 17,
   "metadata": {},
   "outputs": [],
   "source": [
    "try:     urllib.request.urlretrieve(url_cr_rep_tcys, 'CR_TCYS_'+anio+'_'+n_mes+'_'+cr_rep_tcys+'-'+fec_rep) \n",
    "except: 'No existe'\n",
    "try:     urllib.request.urlretrieve(url_cr_rep_epyp, 'CR_EPYG_'+anio+'_'+n_mes+'_'+cr_rep_epyp+'-'+fec_rep) \n",
    "except: 'No existe'\n",
    "try:     urllib.request.urlretrieve(url_cr_rep_cctc, 'CR_CCTC_'+anio+'_'+n_mes+'_'+cr_rep_cctc+'-'+fec_rep) \n",
    "except: 'No existe' "
   ]
  },
  {
   "cell_type": "markdown",
   "metadata": {},
   "source": [
    "## **Reportes EDPYMES**"
   ]
  },
  {
   "cell_type": "code",
   "execution_count": 18,
   "metadata": {},
   "outputs": [],
   "source": [
    "#Listado de Reportes Cajas Rurales\n",
    "ed_rep_tcys='C-4223'   # Tipo de Credito y Situacion\n",
    "ed_rep_epyp='C-4103'   # Estado de Ganancias y Perdidas\n",
    "ed_rep_cctc='C-4242'   # Creditos Castigados por Tipo Credito"
   ]
  },
  {
   "cell_type": "code",
   "execution_count": 19,
   "metadata": {},
   "outputs": [
    {
     "name": "stdout",
     "output_type": "stream",
     "text": [
      "https://intranet2.sbs.gob.pe/estadistica/financiera/2021/Setiembre/C-4223-se2021.xls\n",
      "https://intranet2.sbs.gob.pe/estadistica/financiera/2021/Setiembre/C-4103-se2021.xls\n",
      "https://intranet2.sbs.gob.pe/estadistica/financiera/2021/Setiembre/C-4242-se2021.xls\n"
     ]
    }
   ],
   "source": [
    "url_ed_rep_tcys=url+anio+'/'+t_mes+'/'+ed_rep_tcys+'-'+fec_rep\n",
    "url_ed_rep_epyp=url+anio+'/'+t_mes+'/'+ed_rep_epyp+'-'+fec_rep\n",
    "url_ed_rep_cctc=url+anio+'/'+t_mes+'/'+ed_rep_cctc+'-'+fec_rep\n",
    "print(url_ed_rep_tcys)\n",
    "print(url_ed_rep_epyp)\n",
    "print(url_ed_rep_cctc)"
   ]
  },
  {
   "cell_type": "code",
   "execution_count": 20,
   "metadata": {},
   "outputs": [],
   "source": [
    "try:     urllib.request.urlretrieve(url_ed_rep_tcys, 'ED_TCYS_'+anio+'_'+n_mes+'_'+ed_rep_tcys+'-'+fec_rep) \n",
    "except: 'No existe'\n",
    "try:     urllib.request.urlretrieve(url_ed_rep_epyp, 'ED_EPYG_'+anio+'_'+n_mes+'_'+ed_rep_epyp+'-'+fec_rep) \n",
    "except: 'No existe'\n",
    "try:     urllib.request.urlretrieve(url_ed_rep_cctc, 'ED_CCTC_'+anio+'_'+n_mes+'_'+ed_rep_cctc+'-'+fec_rep) \n",
    "except: 'No existe' "
   ]
  }
 ],
 "metadata": {
  "kernelspec": {
   "display_name": "Python 3",
   "language": "python",
   "name": "python3"
  },
  "language_info": {
   "codemirror_mode": {
    "name": "ipython",
    "version": 3
   },
   "file_extension": ".py",
   "mimetype": "text/x-python",
   "name": "python",
   "nbconvert_exporter": "python",
   "pygments_lexer": "ipython3",
   "version": "3.8.3"
  }
 },
 "nbformat": 4,
 "nbformat_minor": 4
}
